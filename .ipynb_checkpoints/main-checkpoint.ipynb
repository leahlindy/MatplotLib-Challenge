{
 "cells": [
  {
   "cell_type": "code",
   "execution_count": null,
   "metadata": {},
   "outputs": [],
   "source": [
    "# Look across all previously generated figures and tables and write at least three observations or inferences that can be made from the data. Include these observations at the top of notebook."
   ]
  },
  {
   "cell_type": "code",
   "execution_count": 2,
   "metadata": {},
   "outputs": [],
   "source": [
    "# Dependencies and Setup\n",
    "import matplotlib.pyplot as plt\n",
    "import pandas as pd\n",
    "import numpy as np\n",
    "import scipy.stats as st\n",
    "from scipy.stats import sem\n",
    "\n",
    "# Study data files\n",
    "mouse_metadata = \"data/Mouse_metadata.csv\"\n",
    "study_results = \"data/Study_results.csv\"\n",
    "\n",
    "# Read the mouse data and the study results\n",
    "mouse_metadata = pd.read_csv(mouse_metadata)\n",
    "study_results = pd.read_csv(study_results)\n",
    "\n",
    "# Combine the data into a single dataset\n",
    "mouse_study=pd.merge(mouse_metadata,study_results,on='Mouse ID', how= 'outer')"
   ]
  },
  {
   "cell_type": "code",
   "execution_count": 3,
   "metadata": {},
   "outputs": [],
   "source": [
    "#Drop null values\n",
    "mouse_study=mouse_study.dropna(how='any')"
   ]
  },
  {
   "cell_type": "code",
   "execution_count": null,
   "metadata": {},
   "outputs": [],
   "source": []
  },
  {
   "cell_type": "code",
   "execution_count": 4,
   "metadata": {},
   "outputs": [
    {
     "name": "stdout",
     "output_type": "stream",
     "text": [
      "NormaltestResult(statistic=12.516920275383532, pvalue=0.001914191119110187)\n"
     ]
    },
    {
     "data": {
      "image/png": "[encoded data removed]",
      "text/plain": [
       "<Figure size 432x288 with 1 Axes>"
      ]
     },
     "metadata": {
      "needs_background": "light"
     },
     "output_type": "display_data"
    }
   ],
   "source": [
    "# Determine if normally distributed\n",
    "plt.hist(mouse_study['Tumor Volume (mm3)'])\n",
    "print(st.normaltest(mouse_study['Tumor Volume (mm3)'].sample(100)))\n",
    "# assume data normally distributed based on histogram shape and pvalue>0.05"
   ]
  },
  {
   "cell_type": "code",
   "execution_count": 5,
   "metadata": {},
   "outputs": [],
   "source": [
    "# Group Data by drug regimen\n",
    "regimen_group=mouse_study.groupby('Drug Regimen')\n",
    "regimen_group_df=pd.DataFrame(regimen_group[\"Tumor Volume (mm3)\"])\n"
   ]
  },
  {
   "cell_type": "code",
   "execution_count": 6,
   "metadata": {},
   "outputs": [
    {
     "name": "stdout",
     "output_type": "stream",
     "text": [
      "[-1.93149547  0.30284427  0.35790348  0.79872523  0.62919663  0.57331974\n",
      "  0.25247364 -2.0175648   0.6107421   0.42385518]\n"
     ]
    }
   ],
   "source": [
    "# Calculations on grouped data:mean, median, variance, standard deviation, and SEM\n",
    "tv_mean=regimen_group[\"Tumor Volume (mm3)\"].mean()\n",
    "tv_median=regimen_group[\"Tumor Volume (mm3)\"].median()\n",
    "tv_var=regimen_group[\"Tumor Volume (mm3)\"].var()\n",
    "tv_std=regimen_group[\"Tumor Volume (mm3)\"].std()\n",
    "tv_sem=regimen_group[\"Tumor Volume (mm3)\"].sem()\n",
    "\n",
    "print(st.zscore(tv_mean))"
   ]
  },
  {
   "cell_type": "code",
   "execution_count": 7,
   "metadata": {},
   "outputs": [
    {
     "data": {
      "text/html": [
       "<div>\n",
       "<style scoped>\n",
       "    .dataframe tbody tr th:only-of-type {\n",
       "        vertical-align: middle;\n",
       "    }\n",
       "\n",
       "    .dataframe tbody tr th {\n",
       "        vertical-align: top;\n",
       "    }\n",
       "\n",
       "    .dataframe thead th {\n",
       "        text-align: right;\n",
       "    }\n",
       "</style>\n",
       "<table border=\"1\" class=\"dataframe\">\n",
       "  <thead>\n",
       "    <tr style=\"text-align: right;\">\n",
       "      <th></th>\n",
       "      <th>Mean</th>\n",
       "      <th>Median</th>\n",
       "      <th>Variance</th>\n",
       "      <th>StDev</th>\n",
       "      <th>Standard Error of the Mean</th>\n",
       "    </tr>\n",
       "    <tr>\n",
       "      <th>Drug Regimen</th>\n",
       "      <th></th>\n",
       "      <th></th>\n",
       "      <th></th>\n",
       "      <th></th>\n",
       "      <th></th>\n",
       "    </tr>\n",
       "  </thead>\n",
       "  <tbody>\n",
       "    <tr>\n",
       "      <td>Capomulin</td>\n",
       "      <td>40.675741</td>\n",
       "      <td>41.557809</td>\n",
       "      <td>24.947764</td>\n",
       "      <td>4.994774</td>\n",
       "      <td>0.329346</td>\n",
       "    </tr>\n",
       "    <tr>\n",
       "      <td>Ceftamin</td>\n",
       "      <td>52.591172</td>\n",
       "      <td>51.776157</td>\n",
       "      <td>39.290177</td>\n",
       "      <td>6.268188</td>\n",
       "      <td>0.469821</td>\n",
       "    </tr>\n",
       "    <tr>\n",
       "      <td>Infubinol</td>\n",
       "      <td>52.884795</td>\n",
       "      <td>51.820584</td>\n",
       "      <td>43.128684</td>\n",
       "      <td>6.567243</td>\n",
       "      <td>0.492236</td>\n",
       "    </tr>\n",
       "    <tr>\n",
       "      <td>Ketapril</td>\n",
       "      <td>55.235638</td>\n",
       "      <td>53.698743</td>\n",
       "      <td>68.553577</td>\n",
       "      <td>8.279709</td>\n",
       "      <td>0.603860</td>\n",
       "    </tr>\n",
       "    <tr>\n",
       "      <td>Naftisol</td>\n",
       "      <td>54.331565</td>\n",
       "      <td>52.509285</td>\n",
       "      <td>66.173479</td>\n",
       "      <td>8.134708</td>\n",
       "      <td>0.596466</td>\n",
       "    </tr>\n",
       "    <tr>\n",
       "      <td>Placebo</td>\n",
       "      <td>54.033581</td>\n",
       "      <td>52.288934</td>\n",
       "      <td>61.168083</td>\n",
       "      <td>7.821003</td>\n",
       "      <td>0.581331</td>\n",
       "    </tr>\n",
       "    <tr>\n",
       "      <td>Propriva</td>\n",
       "      <td>52.322552</td>\n",
       "      <td>50.854632</td>\n",
       "      <td>42.351070</td>\n",
       "      <td>6.507770</td>\n",
       "      <td>0.512884</td>\n",
       "    </tr>\n",
       "    <tr>\n",
       "      <td>Ramicane</td>\n",
       "      <td>40.216745</td>\n",
       "      <td>40.673236</td>\n",
       "      <td>23.486704</td>\n",
       "      <td>4.846308</td>\n",
       "      <td>0.320955</td>\n",
       "    </tr>\n",
       "    <tr>\n",
       "      <td>Stelasyn</td>\n",
       "      <td>54.233149</td>\n",
       "      <td>52.431737</td>\n",
       "      <td>59.450562</td>\n",
       "      <td>7.710419</td>\n",
       "      <td>0.573111</td>\n",
       "    </tr>\n",
       "    <tr>\n",
       "      <td>Zoniferol</td>\n",
       "      <td>53.236507</td>\n",
       "      <td>51.818479</td>\n",
       "      <td>48.533355</td>\n",
       "      <td>6.966589</td>\n",
       "      <td>0.516398</td>\n",
       "    </tr>\n",
       "  </tbody>\n",
       "</table>\n",
       "</div>"
      ],
      "text/plain": [
       "                   Mean     Median   Variance     StDev  \\\n",
       "Drug Regimen                                              \n",
       "Capomulin     40.675741  41.557809  24.947764  4.994774   \n",
       "Ceftamin      52.591172  51.776157  39.290177  6.268188   \n",
       "Infubinol     52.884795  51.820584  43.128684  6.567243   \n",
       "Ketapril      55.235638  53.698743  68.553577  8.279709   \n",
       "Naftisol      54.331565  52.509285  66.173479  8.134708   \n",
       "Placebo       54.033581  52.288934  61.168083  7.821003   \n",
       "Propriva      52.322552  50.854632  42.351070  6.507770   \n",
       "Ramicane      40.216745  40.673236  23.486704  4.846308   \n",
       "Stelasyn      54.233149  52.431737  59.450562  7.710419   \n",
       "Zoniferol     53.236507  51.818479  48.533355  6.966589   \n",
       "\n",
       "              Standard Error of the Mean  \n",
       "Drug Regimen                              \n",
       "Capomulin                       0.329346  \n",
       "Ceftamin                        0.469821  \n",
       "Infubinol                       0.492236  \n",
       "Ketapril                        0.603860  \n",
       "Naftisol                        0.596466  \n",
       "Placebo                         0.581331  \n",
       "Propriva                        0.512884  \n",
       "Ramicane                        0.320955  \n",
       "Stelasyn                        0.573111  \n",
       "Zoniferol                       0.516398  "
      ]
     },
     "execution_count": 7,
     "metadata": {},
     "output_type": "execute_result"
    }
   ],
   "source": [
    "# Generate a summary statistics table \n",
    "summary_1=pd.merge(tv_mean,tv_median,on=\"Drug Regimen\", how='outer')\n",
    "summary_1=summary_1.rename(columns={'Tumor Volume (mm3)_x': 'Mean',\n",
    "                                    'Tumor Volume (mm3)_y': 'Median'})\n",
    "summary_2=pd.merge(summary_1,tv_var,on=\"Drug Regimen\", how='outer')\n",
    "summary_3=pd.merge(summary_2,tv_std,on=\"Drug Regimen\", how='outer')\n",
    "summary_4=pd.merge(summary_3,tv_sem,on=\"Drug Regimen\", how='outer')\n",
    "summary_4=summary_4.rename(columns={'Tumor Volume (mm3)_x': 'Variance',\n",
    "                                    'Tumor Volume (mm3)_y': 'StDev',\n",
    "                                    'Tumor Volume (mm3)': 'Standard Error of the Mean'})\n",
    "summary_4"
   ]
  },
  {
   "cell_type": "code",
   "execution_count": 8,
   "metadata": {},
   "outputs": [
    {
     "data": {
      "text/html": [
       "<div>\n",
       "<style scoped>\n",
       "    .dataframe tbody tr th:only-of-type {\n",
       "        vertical-align: middle;\n",
       "    }\n",
       "\n",
       "    .dataframe tbody tr th {\n",
       "        vertical-align: top;\n",
       "    }\n",
       "\n",
       "    .dataframe thead th {\n",
       "        text-align: right;\n",
       "    }\n",
       "</style>\n",
       "<table border=\"1\" class=\"dataframe\">\n",
       "  <thead>\n",
       "    <tr style=\"text-align: right;\">\n",
       "      <th></th>\n",
       "      <th>Drug Regimen</th>\n",
       "      <th>Data points</th>\n",
       "    </tr>\n",
       "  </thead>\n",
       "  <tbody>\n",
       "    <tr>\n",
       "      <td>0</td>\n",
       "      <td>Capomulin</td>\n",
       "      <td>230</td>\n",
       "    </tr>\n",
       "    <tr>\n",
       "      <td>1</td>\n",
       "      <td>Ceftamin</td>\n",
       "      <td>178</td>\n",
       "    </tr>\n",
       "    <tr>\n",
       "      <td>2</td>\n",
       "      <td>Infubinol</td>\n",
       "      <td>178</td>\n",
       "    </tr>\n",
       "    <tr>\n",
       "      <td>3</td>\n",
       "      <td>Ketapril</td>\n",
       "      <td>188</td>\n",
       "    </tr>\n",
       "    <tr>\n",
       "      <td>4</td>\n",
       "      <td>Naftisol</td>\n",
       "      <td>186</td>\n",
       "    </tr>\n",
       "    <tr>\n",
       "      <td>5</td>\n",
       "      <td>Placebo</td>\n",
       "      <td>181</td>\n",
       "    </tr>\n",
       "    <tr>\n",
       "      <td>6</td>\n",
       "      <td>Propriva</td>\n",
       "      <td>161</td>\n",
       "    </tr>\n",
       "    <tr>\n",
       "      <td>7</td>\n",
       "      <td>Ramicane</td>\n",
       "      <td>228</td>\n",
       "    </tr>\n",
       "    <tr>\n",
       "      <td>8</td>\n",
       "      <td>Stelasyn</td>\n",
       "      <td>181</td>\n",
       "    </tr>\n",
       "    <tr>\n",
       "      <td>9</td>\n",
       "      <td>Zoniferol</td>\n",
       "      <td>182</td>\n",
       "    </tr>\n",
       "  </tbody>\n",
       "</table>\n",
       "</div>"
      ],
      "text/plain": [
       "  Drug Regimen  Data points\n",
       "0    Capomulin          230\n",
       "1     Ceftamin          178\n",
       "2    Infubinol          178\n",
       "3     Ketapril          188\n",
       "4     Naftisol          186\n",
       "5      Placebo          181\n",
       "6     Propriva          161\n",
       "7     Ramicane          228\n",
       "8     Stelasyn          181\n",
       "9    Zoniferol          182"
      ]
     },
     "execution_count": 8,
     "metadata": {},
     "output_type": "execute_result"
    }
   ],
   "source": [
    "# Create DataFrame to hold data counts for each regimen\n",
    "data_points=regimen_group[\"Tumor Volume (mm3)\"].count()\n",
    "y_axis=[x for x in data_points]\n",
    "\n",
    "treatments=summary_4.index.tolist()\n",
    "\n",
    "data_counts=pd.DataFrame({'Drug Regimen':treatments,\n",
    "             'Data points':y_axis})\n",
    "data_counts"
   ]
  },
  {
   "cell_type": "code",
   "execution_count": 9,
   "metadata": {},
   "outputs": [
    {
     "data": {
      "text/plain": [
       "Text(0, 0.5, 'Data Points Reported')"
      ]
     },
     "execution_count": 9,
     "metadata": {},
     "output_type": "execute_result"
    },
    {
     "data": {
      "image/png": "[encoded data removed]",
      "text/plain": [
       "<Figure size 432x288 with 1 Axes>"
      ]
     },
     "metadata": {
      "needs_background": "light"
     },
     "output_type": "display_data"
    }
   ],
   "source": [
    "# Generate a bar plot showing number of data points for each treatment regimen using pandas\n",
    "pandas_bar=data_counts.plot.bar(x='Drug Regimen', y='Data points', title='Data Points for each Drug Regimen', color='coral')\n",
    "\n",
    "pandas_bar.set_ylabel(\"Data Points Reported\")"
   ]
  },
  {
   "cell_type": "code",
   "execution_count": 100,
   "metadata": {},
   "outputs": [
    {
     "data": {
      "image/png": "[encoded data removed]",
      "text/plain": [
       "<Figure size 432x288 with 1 Axes>"
      ]
     },
     "metadata": {
      "needs_background": "light"
     },
     "output_type": "display_data"
    }
   ],
   "source": [
    "# Generate a bar plot showing number of data points for each treatment regimen using pyplot\n",
    "x_axis= np.arange(1,11,1)\n",
    "matplot_bar=plt.bar(x_axis,y_axis, width=0.5, color='coral', align='center')\n",
    "# Format chart\n",
    "plt.title('Data Points for each Drug Regimen')\n",
    "plt.xlabel('Drug Regimen')\n",
    "plt.ylabel('Data Points Reported')\n",
    "plt.legend([\"Data Points\"],loc='upper center')\n",
    "plt.xlim(min(x_axis)-.5,max(x_axis)+.5)\n",
    "plt.xticks(x_axis,treatments, rotation=90)\n",
    "plt.show()"
   ]
  },
  {
   "cell_type": "code",
   "execution_count": 152,
   "metadata": {},
   "outputs": [
    {
     "data": {
      "image/png": "[encoded data removed]",
      "text/plain": [
       "<Figure size 360x360 with 1 Axes>"
      ]
     },
     "metadata": {},
     "output_type": "display_data"
    }
   ],
   "source": [
    "#Generate a pie plot showing the distribution of female versus male mice using pandas\n",
    "genders=mouse_study.groupby('Sex').count()\n",
    "pandas_pie=genders.plot(kind='pie', y='Mouse ID', autopct='%1.1f%%',figsize=(5,5),colors=('pink', '#1f77b4'),legend=False, )"
   ]
  },
  {
   "cell_type": "code",
   "execution_count": 151,
   "metadata": {},
   "outputs": [
    {
     "data": {
      "text/plain": [
       "Text(0.5, 1.0, 'Female vs Male Mice Distribution')"
      ]
     },
     "execution_count": 151,
     "metadata": {},
     "output_type": "execute_result"
    },
    {
     "data": {
      "image/png": "[encoded data removed]",
      "text/plain": [
       "<Figure size 432x288 with 1 Axes>"
      ]
     },
     "metadata": {},
     "output_type": "display_data"
    }
   ],
   "source": [
    "#format and plot with matplot\n",
    "female=genders.iloc[0,1]\n",
    "male=genders.iloc[1,1]\n",
    "totals = (male,female)\n",
    "colors = (\"#1f77b4\", \"pink\")\n",
    "gender_label = (\"Male\", \"Female\")\n",
    "\n",
    "plt.pie(totals,labels = gender_label, colors = colors,autopct=\"%1.1f%%\",startangle =180)\n",
    "plt.axis(\"equal\")\n",
    "plt.title(\"Female vs Male Mice Distribution\")"
   ]
  },
  {
   "cell_type": "code",
   "execution_count": 13,
   "metadata": {},
   "outputs": [],
   "source": [
    "# Most promising regimen would have lowest tumour volume following treatment \n",
    "# Not accurate because some may have grown over time- need to get mean of finals\n",
    "\n",
    "#Capomulin, Ramicane, Infubinol, and Ceftamin"
   ]
  },
  {
   "cell_type": "code",
   "execution_count": 14,
   "metadata": {},
   "outputs": [
    {
     "data": {
      "text/html": [
       "<div>\n",
       "<style scoped>\n",
       "    .dataframe tbody tr th:only-of-type {\n",
       "        vertical-align: middle;\n",
       "    }\n",
       "\n",
       "    .dataframe tbody tr th {\n",
       "        vertical-align: top;\n",
       "    }\n",
       "\n",
       "    .dataframe thead th {\n",
       "        text-align: right;\n",
       "    }\n",
       "</style>\n",
       "<table border=\"1\" class=\"dataframe\">\n",
       "  <thead>\n",
       "    <tr style=\"text-align: right;\">\n",
       "      <th></th>\n",
       "      <th>Mean of Final Tumour volume</th>\n",
       "    </tr>\n",
       "    <tr>\n",
       "      <th>Drug Regimen</th>\n",
       "      <th></th>\n",
       "    </tr>\n",
       "  </thead>\n",
       "  <tbody>\n",
       "    <tr>\n",
       "      <td>Ramicane</td>\n",
       "      <td>34.955595</td>\n",
       "    </tr>\n",
       "    <tr>\n",
       "      <td>Capomulin</td>\n",
       "      <td>36.236114</td>\n",
       "    </tr>\n",
       "    <tr>\n",
       "      <td>Ceftamin</td>\n",
       "      <td>64.132421</td>\n",
       "    </tr>\n",
       "    <tr>\n",
       "      <td>Infubinol</td>\n",
       "      <td>65.755562</td>\n",
       "    </tr>\n",
       "  </tbody>\n",
       "</table>\n",
       "</div>"
      ],
      "text/plain": [
       "              Mean of Final Tumour volume\n",
       "Drug Regimen                             \n",
       "Ramicane                        34.955595\n",
       "Capomulin                       36.236114\n",
       "Ceftamin                        64.132421\n",
       "Infubinol                       65.755562"
      ]
     },
     "execution_count": 14,
     "metadata": {},
     "output_type": "execute_result"
    }
   ],
   "source": [
    "# Tumour vol at timepoint=0 are all 45.00\n",
    "# Best outcome is lowest mean tumour size\n",
    "finaltime=mouse_study.loc[mouse_study['Timepoint']==45]\n",
    "finalvol_drug=finaltime.groupby('Drug Regimen')\n",
    "mean_final= finalvol_drug.mean()\n",
    "mean_final=mean_final['Tumor Volume (mm3)']\n",
    "mean_final=pd.DataFrame({'Mean of Final Tumour volume':mean_final})\n",
    "sorted_final=mean_final.nsmallest(4,'Mean of Final Tumour volume')\n",
    "sorted_final"
   ]
  },
  {
   "cell_type": "code",
   "execution_count": 15,
   "metadata": {},
   "outputs": [],
   "source": [
    "# Calculate the IQR and quantitatively determine if there are any potential outliers. "
   ]
  },
  {
   "cell_type": "code",
   "execution_count": 16,
   "metadata": {},
   "outputs": [],
   "source": [
    "# best_drugs=['Ramicane','Capomulin','Ceftamin','Infubinol']\n",
    "top_dru=mouse_study.loc[mouse_study['Drug Regimen'].isin(['Infubinol','Ceftamin','Ramicane','Capomulin'])]\n",
    "\n",
    "#need to sort by timepoint then drop duplicates and keep the last value (that is the last day for the mouse)\n",
    "top_dru_sort=top_dru.sort_values('Timepoint',ascending=True)\n",
    "\n",
    "top_dru_unique_mice=top_dru_sort.drop_duplicates('Mouse ID', keep='last')"
   ]
  },
  {
   "cell_type": "code",
   "execution_count": 54,
   "metadata": {},
   "outputs": [],
   "source": [
    "# Final volume for each drug type\n",
    "#Ceftamin\n",
    "Ceftamin=top_dru_unique_mice.loc[top_dru_unique_mice['Drug Regimen']=='Ceftamin']\n",
    "\n",
    "final_Ceftamin=[]\n",
    "for x in Ceftamin['Tumor Volume (mm3)']:\n",
    "     final_Ceftamin.append(x)\n",
    "\n",
    "#Ramicane\n",
    "Ramicane=top_dru_unique_mice.loc[top_dru_unique_mice['Drug Regimen']=='Ramicane']\n",
    "\n",
    "final_Ramicane=[]\n",
    "for x in Ramicane['Tumor Volume (mm3)']:\n",
    "     final_Ramicane.append(x)  \n",
    "\n",
    "#Infubinol\n",
    "Infubinol=top_dru_unique_mice.loc[top_dru_unique_mice['Drug Regimen']=='Infubinol']\n",
    "\n",
    "final_Infubinol=[]\n",
    "for x in Infubinol['Tumor Volume (mm3)']:\n",
    "     final_Infubinol.append(x)  \n",
    "\n",
    "#Capomulin\n",
    "Capomulin=top_dru_unique_mice.loc[top_dru_unique_mice['Drug Regimen']=='Capomulin']\n",
    "\n",
    "final_Capomulin=[]\n",
    "for x in Capomulin['Tumor Volume (mm3)']:\n",
    "     final_Capomulin.append(x) "
   ]
  },
  {
   "cell_type": "code",
   "execution_count": 69,
   "metadata": {},
   "outputs": [
    {
     "data": {
      "text/plain": [
       "Text(0, 0.5, 'Tumor Volume (mm3)')"
      ]
     },
     "execution_count": 69,
     "metadata": {},
     "output_type": "execute_result"
    },
    {
     "data": {
      "image/png": "[encoded data removed]",
      "text/plain": [
       "<Figure size 432x288 with 1 Axes>"
      ]
     },
     "metadata": {
      "needs_background": "light"
     },
     "output_type": "display_data"
    }
   ],
   "source": [
    "#enter data to be used in box plot\n",
    "data=(final_Ceftamin,final_Ramicane,final_Infubinol,final_Capomulin)\n",
    "\n",
    "fig, ax = plt.subplots()\n",
    "fig.suptitle(\"Outcome of Drug regimen\", fontsize=16, fontweight=\"bold\")\n",
    "\n",
    "#plot - change outlier sybol to be red '+' (sym)\n",
    "ax.boxplot(data,sym='r+')\n",
    "\n",
    "#Change Labels\n",
    "ax.set_xlim(.5,4.5)\n",
    "ax.set_ylim(min(final_Ramicane)-1,max(final_Infubinol)+1)\n",
    "drugs=['Ceftamin','Ramicane','Infubinol','Capomulin']\n",
    "ax.set_xticklabels(drugs,fontsize=8)\n",
    "ax.set_ylabel('Tumor Volume (mm3)')"
   ]
  },
  {
   "cell_type": "code",
   "execution_count": 92,
   "metadata": {},
   "outputs": [
    {
     "data": {
      "text/html": [
       "<div>\n",
       "<style scoped>\n",
       "    .dataframe tbody tr th:only-of-type {\n",
       "        vertical-align: middle;\n",
       "    }\n",
       "\n",
       "    .dataframe tbody tr th {\n",
       "        vertical-align: top;\n",
       "    }\n",
       "\n",
       "    .dataframe thead th {\n",
       "        text-align: right;\n",
       "    }\n",
       "</style>\n",
       "<table border=\"1\" class=\"dataframe\">\n",
       "  <thead>\n",
       "    <tr style=\"text-align: right;\">\n",
       "      <th></th>\n",
       "      <th>Tumor Volume (mm3)</th>\n",
       "      <th>Timepoint</th>\n",
       "    </tr>\n",
       "  </thead>\n",
       "  <tbody>\n",
       "    <tr>\n",
       "      <td>125</td>\n",
       "      <td>45.000000</td>\n",
       "      <td>0</td>\n",
       "    </tr>\n",
       "    <tr>\n",
       "      <td>126</td>\n",
       "      <td>45.781746</td>\n",
       "      <td>5</td>\n",
       "    </tr>\n",
       "    <tr>\n",
       "      <td>127</td>\n",
       "      <td>39.005494</td>\n",
       "      <td>10</td>\n",
       "    </tr>\n",
       "    <tr>\n",
       "      <td>128</td>\n",
       "      <td>35.463758</td>\n",
       "      <td>15</td>\n",
       "    </tr>\n",
       "    <tr>\n",
       "      <td>129</td>\n",
       "      <td>36.015589</td>\n",
       "      <td>20</td>\n",
       "    </tr>\n",
       "    <tr>\n",
       "      <td>130</td>\n",
       "      <td>33.893345</td>\n",
       "      <td>25</td>\n",
       "    </tr>\n",
       "    <tr>\n",
       "      <td>131</td>\n",
       "      <td>32.680655</td>\n",
       "      <td>30</td>\n",
       "    </tr>\n",
       "    <tr>\n",
       "      <td>132</td>\n",
       "      <td>33.069337</td>\n",
       "      <td>35</td>\n",
       "    </tr>\n",
       "    <tr>\n",
       "      <td>133</td>\n",
       "      <td>31.804841</td>\n",
       "      <td>40</td>\n",
       "    </tr>\n",
       "    <tr>\n",
       "      <td>134</td>\n",
       "      <td>32.377357</td>\n",
       "      <td>45</td>\n",
       "    </tr>\n",
       "  </tbody>\n",
       "</table>\n",
       "</div>"
      ],
      "text/plain": [
       "     Tumor Volume (mm3)  Timepoint\n",
       "125           45.000000          0\n",
       "126           45.781746          5\n",
       "127           39.005494         10\n",
       "128           35.463758         15\n",
       "129           36.015589         20\n",
       "130           33.893345         25\n",
       "131           32.680655         30\n",
       "132           33.069337         35\n",
       "133           31.804841         40\n",
       "134           32.377357         45"
      ]
     },
     "execution_count": 92,
     "metadata": {},
     "output_type": "execute_result"
    }
   ],
   "source": [
    "# Generate a line plot of time point versus tumor volume for a single mouse treated with Capomulin.\n",
    "Capomulin_mouse=top_dru.loc[top_dru['Drug Regimen']=='Capomulin']\n",
    "\n",
    "#find a mouse that makes it to time = 45\n",
    "Capomulin_mouse.sort_values('Timepoint', ascending=False)\n",
    "\n",
    "#select mouse\n",
    "Capomulin_r554=Capomulin_mouse.loc[Capomulin_mouse[\"Mouse ID\"]=='r554']\n",
    "\n",
    "new = Capomulin_r554[['Tumor Volume (mm3)', 'Timepoint']].copy()\n",
    "\n",
    "new"
   ]
  },
  {
   "cell_type": "code",
   "execution_count": 98,
   "metadata": {},
   "outputs": [
    {
     "data": {
      "text/plain": [
       "Text(0.5, 1.0, 'Mouse r554 Tumour Volume over time (Capomulin)')"
      ]
     },
     "execution_count": 98,
     "metadata": {},
     "output_type": "execute_result"
    },
    {
     "data": {
      "image/png": "[encoded data removed]",
      "text/plain": [
       "<Figure size 432x288 with 1 Axes>"
      ]
     },
     "metadata": {
      "needs_background": "light"
     },
     "output_type": "display_data"
    }
   ],
   "source": [
    "plt.scatter(new['Timepoint'],new['Tumor Volume (mm3)'])\n",
    "plt.xlabel(\"Time\")\n",
    "plt.ylabel('Tumor Volume (mm3)')\n",
    "plt.title(\"Mouse r554 Tumour Volume over time (Capomulin)\")"
   ]
  },
  {
   "cell_type": "code",
   "execution_count": null,
   "metadata": {},
   "outputs": [],
   "source": [
    "# Calculate the correlation coefficient and linear regression model between mouse weight and average tumor volume for the Capomulin treatment. \n",
    "# Plot the linear regression model on top of the previous scatter plot"
   ]
  },
  {
   "cell_type": "code",
   "execution_count": null,
   "metadata": {},
   "outputs": [],
   "source": []
  },
  {
   "cell_type": "code",
   "execution_count": 68,
   "metadata": {},
   "outputs": [],
   "source": []
  },
  {
   "cell_type": "code",
   "execution_count": 19,
   "metadata": {},
   "outputs": [],
   "source": []
  },
  {
   "cell_type": "code",
   "execution_count": null,
   "metadata": {},
   "outputs": [],
   "source": []
  },
  {
   "cell_type": "code",
   "execution_count": 44,
   "metadata": {},
   "outputs": [
    {
     "name": "stdout",
     "output_type": "stream",
     "text": [
      "The lower quartile of tumour volume is: 45.0\n",
      "The upper quartile of tumour volume is: 56.29220039\n",
      "The interquartile range of tumour volume is: 11.292200389999998\n",
      "The the median of volume is: 48.95147442 \n",
      "Values below 28.061699415000003 could be outliers.\n",
      "Values above 73.230500975 could be outliers.\n"
     ]
    }
   ],
   "source": [
    "quartiles = mouse_tumours.quantile([.25,.5,.75])\n",
    "lowerq = quartiles[0.25]\n",
    "upperq = quartiles[0.75]\n",
    "iqr = upperq-lowerq\n",
    "\n",
    "print(f\"The lower quartile of tumour volume is: {lowerq}\")\n",
    "print(f\"The upper quartile of tumour volume is: {upperq}\")\n",
    "print(f\"The interquartile range of tumour volume is: {iqr}\")\n",
    "print(f\"The the median of volume is: {quartiles[0.5]} \")\n",
    "\n",
    "lower_bound = lowerq - (1.5*iqr)\n",
    "upper_bound = upperq + (1.5*iqr)\n",
    "print(f\"Values below {lower_bound} could be outliers.\")\n",
    "print(f\"Values above {upper_bound} could be outliers.\")"
   ]
  },
  {
   "cell_type": "code",
   "execution_count": null,
   "metadata": {},
   "outputs": [],
   "source": []
  }
 ],
 "metadata": {
  "kernelspec": {
   "display_name": "Python 3",
   "language": "python",
   "name": "python3"
  },
  "language_info": {
   "codemirror_mode": {
    "name": "ipython",
    "version": 3
   },
   "file_extension": ".py",
   "mimetype": "text/x-python",
   "name": "python",
   "nbconvert_exporter": "python",
   "pygments_lexer": "ipython3",
   "version": "3.7.4"
  }
 },
 "nbformat": 4,
 "nbformat_minor": 2
}
